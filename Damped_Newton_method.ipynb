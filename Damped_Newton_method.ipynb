{
 "cells": [
  {
   "cell_type": "code",
   "execution_count": 1,
   "id": "643f605e",
   "metadata": {},
   "outputs": [],
   "source": [
    "import numpy as np"
   ]
  },
  {
   "cell_type": "code",
   "execution_count": 33,
   "id": "47f763ce",
   "metadata": {},
   "outputs": [],
   "source": [
    "eps_lst = [1, 0.1, 0.01, 0.005]\n",
    "\n",
    "def _Df_i(i, x_i, eps):\n",
    "    return (i / eps) + (2 * x_i) / (1 - (x_i ** 2))\n",
    "\n",
    "def Df(x, eps):\n",
    "    grad = []\n",
    "    for i in range(len(x)):\n",
    "        grad.append(_Df_i(i, x[i], eps))\n",
    "    return np.array(grad)\n",
    "\n",
    "def _Hf_i(x_i):\n",
    "    return (2 + 2 * x_i ** 2) / (1 - x_i ** 2) ** 2\n",
    "#     return (4 * (1 - x_i ** 2) + 8 * (x_i ** 2)) / (1 - x_i ** 2)\n",
    "\n",
    "def Hf(x):\n",
    "    hes = []\n",
    "    for x_i in x:\n",
    "        hes.append(_Hf_i(x_i))\n",
    "    return np.diag(np.array(hes))\n",
    "\n",
    "def lamb(x, eps):\n",
    "    grad, hes = Df(x, eps), Hf(x)\n",
    "    hes_inv = np.linalg.inv(hes)\n",
    "    return np.sqrt(grad.T @ hes_inv @ grad)"
   ]
  },
  {
   "cell_type": "code",
   "execution_count": 48,
   "id": "ec31b3bf",
   "metadata": {
    "scrolled": true
   },
   "outputs": [
    {
     "name": "stdout",
     "output_type": "stream",
     "text": [
      "22\n",
      "22\n",
      "22\n",
      "22\n"
     ]
    }
   ],
   "source": [
    "M = 1\n",
    "lamb_lst = []\n",
    "for eps in eps_lst:\n",
    "    x = np.zeros(10)\n",
    "    lambs = [1e-6] * 22\n",
    "    i = 0\n",
    "    while lamb(x, eps) >= 1e-6:\n",
    "        lambd = lamb(x, eps)\n",
    "        lambs[i] = lambd\n",
    "        Hf_inv = np.linalg.inv(Hf(x))\n",
    "        x -= Hf_inv @ Df(x, eps) / (1 + M * lambd)\n",
    "        i += 1\n",
    "    print(len(lambs))\n",
    "    lamb_lst.append(lambs)"
   ]
  },
  {
   "cell_type": "code",
   "execution_count": 53,
   "id": "04583515",
   "metadata": {},
   "outputs": [
    {
     "data": {
      "text/plain": [
       "Text(0, 0.5, 'lambda value')"
      ]
     },
     "execution_count": 53,
     "metadata": {},
     "output_type": "execute_result"
    },
    {
     "data": {
      "image/png": "[encoded data removed]",
      "text/plain": [
       "<Figure size 576x360 with 1 Axes>"
      ]
     },
     "metadata": {
      "needs_background": "light"
     },
     "output_type": "display_data"
    }
   ],
   "source": [
    "import matplotlib.pyplot as plt\n",
    "fig = plt.figure(figsize=(8, 5))\n",
    "ax = plt.axes()\n",
    "\n",
    "x = np.arange(0, 50)\n",
    "ax.plot(np.arange(22), lamb_lst[0], label = 'eps: 1')\n",
    "ax.plot(np.arange(22), lamb_lst[1], label = 'eps: 0.1')\n",
    "ax.plot(np.arange(22), lamb_lst[2], label = 'eps: 0.01')\n",
    "ax.plot(np.arange(22), lamb_lst[3], label = 'eps: 0.001')\n",
    "ax.legend()\n",
    "ax.set_xlabel('num_iteration')\n",
    "ax.set_ylabel('lambda value')"
   ]
  },
  {
   "cell_type": "code",
   "execution_count": null,
   "id": "f34d0281",
   "metadata": {},
   "outputs": [],
   "source": []
  }
 ],
 "metadata": {
  "kernelspec": {
   "display_name": "Python 3 (ipykernel)",
   "language": "python",
   "name": "python3"
  },
  "language_info": {
   "codemirror_mode": {
    "name": "ipython",
    "version": 3
   },
   "file_extension": ".py",
   "mimetype": "text/x-python",
   "name": "python",
   "nbconvert_exporter": "python",
   "pygments_lexer": "ipython3",
   "version": "3.9.12"
  }
 },
 "nbformat": 4,
 "nbformat_minor": 5
}
